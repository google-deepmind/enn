{
 "cells": [
  {
   "cell_type": "markdown",
   "metadata": {
    "id": "-KZSPdwojuqL"
   },
   "source": [
    "####Copyright 2021 DeepMind Technologies Limited. All Rights Reserved."
   ]
  },
  {
   "cell_type": "markdown",
   "metadata": {
    "id": "HtvykwFsjulW"
   },
   "source": [
    "####Licensed under the Apache License, Version 2.0 (the \"License\");"
   ]
  },
  {
   "cell_type": "markdown",
   "metadata": {
    "id": "HnXf2ETPjubs"
   },
   "source": [
    "####Full license text"
   ]
  },
  {
   "cell_type": "code",
   "execution_count": 0,
   "metadata": {
    "id": "P5DSjPrwjorO"
   },
   "outputs": [],
   "source": [
    "# Licensed under the Apache License, Version 2.0 (the \"License\");\n",
    "# you may not use this file except in compliance with the License.\n",
    "# You may obtain a copy of the License at\n",
    "# \n",
    "#     http://www.apache.org/licenses/LICENSE-2.0\n",
    "# \n",
    "# Unless required by applicable law or agreed to in writing, software\n",
    "# distributed under the License is distributed on an \"AS IS\" BASIS,\n",
    "# WITHOUT WARRANTIES OR CONDITIONS OF ANY KIND, either express or implied.\n",
    "# See the License for the specific language governing permissions and\n",
    "# limitations under the License."
   ]
  },
  {
   "cell_type": "markdown",
   "metadata": {
    "id": "eRrAUUu-t-O2"
   },
   "source": [
    "# Epistemic neural network demo\n",
    "\n",
    "Demo colab for ENN library.\n"
   ]
  },
  {
   "cell_type": "markdown",
   "metadata": {
    "id": "3hbJ-oQHsl3W"
   },
   "source": [
    "## Install ENN"
   ]
  },
  {
   "cell_type": "code",
   "execution_count": 0,
   "metadata": {
    "id": "IGU1LEXZsplN",
    "outputId": "ddcdade5-6d9d-431f-99a9-8c440245955e"
   },
   "outputs": [],
   "source": [
    "#@title Installing enn\n",
    "!git clone https://github.com/deepmind/enn.git\n",
    "!pip install -q enn/"
   ]
  },
  {
   "cell_type": "markdown",
   "metadata": {
    "id": "sV8NEOiudvoZ"
   },
   "source": [
    "## Imports"
   ]
  },
  {
   "cell_type": "code",
   "execution_count": 0,
   "metadata": {
    "id": "qXOubWdlH9C0",
    "outputId": "30a4aa53-d1b0-4cef-831a-fe2b970cc1e2"
   },
   "outputs": [],
   "source": [
    "#@title General imports\n",
    "\n",
    "import warnings\n",
    "\n",
    "warnings.filterwarnings('ignore')"
   ]
  },
  {
   "cell_type": "code",
   "execution_count": null,
   "metadata": {},
   "outputs": [],
   "source": [
    "#@title Development imports\n",
    "from acme.utils.loggers.terminal import TerminalLogger\n",
    "import dataclasses\n",
    "import optax"
   ]
  },
  {
   "cell_type": "code",
   "execution_count": 0,
   "metadata": {
    "cellView": "form",
    "id": "EoyK1tD9Vjvo"
   },
   "outputs": [],
   "source": [
    "#@title ENN imports\n",
    "from enn import losses\n",
    "from enn import networks\n",
    "from enn import supervised\n",
    "from enn import data_noise\n",
    "from enn.supervised import classification_data, regression_data"
   ]
  },
  {
   "cell_type": "markdown",
   "metadata": {
    "id": "qGPFjrbvg86d"
   },
   "source": [
    "## Parameters set using dataclass"
   ]
  },
  {
   "cell_type": "code",
   "execution_count": 0,
   "metadata": {
    "id": "XCK5_dgLg8N1"
   },
   "outputs": [],
   "source": [
    "@dataclasses.dataclass\n",
    "class Config:\n",
    "  num_batch: int = 1_000\n",
    "  index_dim: int = 10\n",
    "  num_index_samples: int = 10\n",
    "  seed: int = 0\n",
    "  prior_scale: float = 5.\n",
    "  learning_rate: float = 1e-3\n",
    "  noise_std: float = 0.1\n",
    "\n",
    "\n",
    "FLAGS = Config()"
   ]
  },
  {
   "cell_type": "markdown",
   "metadata": {
    "id": "c7CvU_0Tqx1f"
   },
   "source": [
    "## Regression problem with 1D output\n",
    "\n"
   ]
  },
  {
   "cell_type": "code",
   "execution_count": 0,
   "metadata": {
    "id": "JoqMQhhOoDZO"
   },
   "outputs": [],
   "source": [
    "#@title Create the regression experiment\n",
    "\n",
    "# Generate dataset\n",
    "dataset = regression_data.make_dataset()\n",
    "\n",
    "# Logger\n",
    "logger = TerminalLogger('supervised_regression')\n",
    "\n",
    "# Create Ensemble ENN with a prior network\n",
    "enn = networks.MLPEnsembleMatchedPrior(\n",
    "    output_sizes=[50, 50, 1],\n",
    "    dummy_input=next(dataset).x,\n",
    "    num_ensemble=FLAGS.index_dim,\n",
    "    prior_scale=FLAGS.prior_scale,\n",
    "    seed=FLAGS.seed,\n",
    ")\n",
    "\n",
    "# L2 loss on perturbed outputs\n",
    "noise_fn = data_noise.GaussianTargetNoise(enn, FLAGS.noise_std, FLAGS.seed)\n",
    "single_loss = losses.add_data_noise(losses.L2Loss(), noise_fn)\n",
    "loss_fn = losses.average_single_index_loss(single_loss, FLAGS.num_index_samples)\n",
    "\n",
    "# Optimizer\n",
    "optimizer = optax.adam(FLAGS.learning_rate)\n",
    "\n",
    "# Aggregating different components of the experiment\n",
    "experiment = supervised.Experiment(\n",
    "    enn, loss_fn, optimizer, dataset, FLAGS.seed, logger=logger)"
   ]
  },
  {
   "cell_type": "code",
   "execution_count": 0,
   "metadata": {
    "id": "Kc66ZhX8gqYG"
   },
   "outputs": [],
   "source": [
    "# Train the experiment\n",
    "experiment.train(FLAGS.num_batch)"
   ]
  },
  {
   "cell_type": "code",
   "execution_count": 0,
   "metadata": {
    "colab": {
     "height": 325
    },
    "id": "i0lC40lXf9eP",
    "outputId": "53531414-7093-40a5-e537-8940f7652193"
   },
   "outputs": [],
   "source": [
    "#@title Plot the output\n",
    "p = regression_data.make_plot(experiment)\n",
    "_ = p.draw()"
   ]
  },
  {
   "cell_type": "markdown",
   "metadata": {
    "id": "y7MoYLKwg6Ho"
   },
   "source": [
    "## Classification problem with 2 labels\n",
    "\n"
   ]
  },
  {
   "cell_type": "code",
   "execution_count": 0,
   "metadata": {
    "id": "v-nHAFWLg6Hp"
   },
   "outputs": [],
   "source": [
    "#@title Create the classification experiment\n",
    "\n",
    "# Generate dataset\n",
    "dataset = classification_data.make_dataset()\n",
    "num_classes = 2\n",
    "\n",
    "# Logger\n",
    "logger = TerminalLogger('supervised_regression')\n",
    "\n",
    "# Create Ensemble ENN with a prior network\n",
    "enn = networks.MLPEnsembleMatchedPrior(\n",
    "    output_sizes=[50, 50, num_classes],\n",
    "    dummy_input=next(dataset).x,\n",
    "    num_ensemble=FLAGS.index_dim,\n",
    "    prior_scale=FLAGS.prior_scale,\n",
    "    seed=FLAGS.seed,\n",
    ")\n",
    "\n",
    "# Cross entropy loss\n",
    "loss_fn = losses.average_single_index_loss(\n",
    "    single_loss=losses.XentLoss(num_classes),\n",
    "    num_index_samples=FLAGS.num_index_samples\n",
    ")\n",
    "\n",
    "# Optimizer\n",
    "optimizer = optax.adam(FLAGS.learning_rate)\n",
    "\n",
    "# Aggregating different components of the experiment\n",
    "experiment = supervised.Experiment(\n",
    "    enn, loss_fn, optimizer, dataset, FLAGS.seed, logger=logger)"
   ]
  },
  {
   "cell_type": "code",
   "execution_count": 0,
   "metadata": {
    "id": "yEyfQ8UPg6Hp"
   },
   "outputs": [],
   "source": [
    "# Train the experiment\n",
    "experiment.train(FLAGS.num_batch)"
   ]
  },
  {
   "cell_type": "code",
   "execution_count": 0,
   "metadata": {
    "colab": {
     "height": 1000
    },
    "id": "hMVdMULpg6Hq",
    "outputId": "129af15b-65b0-493f-faa6-403edc9f52ae"
   },
   "outputs": [],
   "source": [
    "#@title Plot the output\n",
    "classification_data.colab_plots(experiment)"
   ]
  }
 ],
 "metadata": {
  "colab": {
   "collapsed_sections": [],
   "name": "demo.ipynb",
   "toc_visible": true
  },
  "kernelspec": {
   "display_name": "Python 3",
   "language": "python",
   "name": "python3"
  },
  "pycharm": {
   "stem_cell": {
    "cell_type": "raw",
    "metadata": {
     "collapsed": false
    },
    "source": []
   }
  }
 },
 "nbformat": 4,
 "nbformat_minor": 0
}
